{
  "cells": [
    {
      "cell_type": "markdown",
      "metadata": {
        "id": "view-in-github",
        "colab_type": "text"
      },
      "source": [
        "<a href=\"https://colab.research.google.com/github/ErnestoVR04/Computo_Nube/blob/main/1_2_Introduccion_Python.ipynb\" target=\"_parent\"><img src=\"https://colab.research.google.com/assets/colab-badge.svg\" alt=\"Open In Colab\"/></a>"
      ]
    },
    {
      "cell_type": "markdown",
      "metadata": {
        "id": "PxMjTMSwj2gH"
      },
      "source": [
        "<h1>1.2. Introduccion Python</h1>"
      ]
    },
    {
      "cell_type": "markdown",
      "metadata": {
        "id": "-kQp_1HHj2gI"
      },
      "source": [
        "<font color=\"orange\"><h2>Names and namespaces</h2></font>"
      ]
    },
    {
      "cell_type": "code",
      "execution_count": null,
      "metadata": {
        "id": "tz4Z2kwvj2gI",
        "outputId": "7d946609-68c8-4a22-d999-9a46842ffac7"
      },
      "outputs": [
        {
          "name": "stdout",
          "output_type": "stream",
          "text": [
            "3\n",
            "221b Baker Street, NW1 6XE, London\n",
            "{'age': 45, 'role': 'CTO', 'SSN': 'AB1234567'}\n"
          ]
        }
      ],
      "source": [
        "n = 3\n",
        "address = \"221b Baker Street, NW1 6XE, London\" # Sherlock Holmes'\n",
        "employee = {'age': 45,'role': 'CTO','SSN': 'AB1234567'}\n",
        "\n",
        "print(n)\n",
        "print(address)\n",
        "print(employee)"
      ]
    },
    {
      "cell_type": "markdown",
      "metadata": {
        "id": "u2TL8kZcj2gJ"
      },
      "source": [
        "<font color=\"orange\"><h2>Local versus global</h2></font>"
      ]
    },
    {
      "cell_type": "code",
      "execution_count": null,
      "metadata": {
        "id": "7X25XbHTj2gK",
        "outputId": "a3999e42-e445-4c14-cbb0-20b65f97f3e0"
      },
      "outputs": [
        {
          "name": "stdout",
          "output_type": "stream",
          "text": [
            "7 Imprimimos de forma local\n",
            "5 Imprimimos de forma global\n"
          ]
        }
      ],
      "source": [
        "# Definimos una funcion, llamandola local\n",
        "def local():\n",
        "    m = 7 #Declaramos el valor de m de forma local\n",
        "    print(m, \"Imprimimos de forma local\")\n",
        "\n",
        "# Definimos m como variable global\n",
        "m = 5\n",
        "\n",
        "local() # Ejecutamos la funcion local, se retora el valor de m de forma local\n",
        "print(m, \"Imprimimos de forma global\") #Imprimimos m con el valor global"
      ]
    },
    {
      "cell_type": "code",
      "execution_count": null,
      "metadata": {
        "id": "2EEN4gWDj2gK",
        "outputId": "cf7149a8-3b9b-4768-bb76-35397ddec5d1"
      },
      "outputs": [
        {
          "name": "stdout",
          "output_type": "stream",
          "text": [
            "13 printing from the local scope\n",
            "5 printing from the global scope\n"
          ]
        }
      ],
      "source": [
        "# Local, encerrado y global\n",
        "def enclosing_func():\n",
        "    m = 13 #Definimos m de forma encerrado, en caso de no definir el valor de m de forma local tomara el valor global\n",
        "    def local():\n",
        "        # m doesn't belong to the scope defined by the local\n",
        "        # function so Python will keep looking into the next\n",
        "        # enclosing scope. This time m is found in the enclosing\n",
        "        # scope\n",
        "        print(m, 'printing from the local scope')\n",
        "    # calling the function local\n",
        "    local()\n",
        "enclosing_func()\n",
        "\n",
        "m = 5\n",
        "print(m, 'printing from the global scope')\n"
      ]
    },
    {
      "cell_type": "markdown",
      "metadata": {
        "id": "kyrrHoBKj2gK"
      },
      "source": [
        "<font color=\"orange\"><h2>Objetos y clases</h2></font>"
      ]
    },
    {
      "cell_type": "code",
      "execution_count": null,
      "metadata": {
        "id": "SYJNdf2vj2gK",
        "outputId": "bd69ac28-6e6b-4737-f662-e70cfe33484e"
      },
      "outputs": [
        {
          "name": "stdout",
          "output_type": "stream",
          "text": [
            "Red\n",
            "Carbon fiber\n",
            "Blue\n",
            "Steel\n",
            "Braking!\n"
          ]
        }
      ],
      "source": [
        "# Definimos clase Bike\n",
        "class Bike:\n",
        "\n",
        "    def __init__(self, colour, frame_material):\n",
        "        self.colour = colour\n",
        "        self.frame_material = frame_material\n",
        "\n",
        "    def brake(self):\n",
        "        print(\"Braking!\")\n",
        "\n",
        "# Creamos un par de instancias\n",
        "red_bike = Bike('Red', 'Carbon fiber')\n",
        "blue_bike = Bike('Blue', 'Steel')\n",
        "\n",
        "# let's inspect the objects we have, instances of the Bike class.\n",
        "print(red_bike.colour) # prints: Red\n",
        "print(red_bike.frame_material) # prints: Carbon fiber\n",
        "\n",
        "print(blue_bike.colour) # prints: Blue\n",
        "print(blue_bike.frame_material) # prints: Steel\n",
        "\n",
        "# let's brake!\n",
        "red_bike.brake() # prints: Braking!"
      ]
    },
    {
      "cell_type": "markdown",
      "metadata": {
        "id": "SRfGZ_Cgj2gL"
      },
      "source": [
        "<font color = \"orange\"><h2>Mutable o inmutable?</h2></font>  \n",
        "<p>Si el valor de un objeto puede cambiar, el objeto es conocido como mutable, en cambio si el valor del objeto no puede cambiar, el objeto sera inmutable</p>"
      ]
    },
    {
      "cell_type": "code",
      "execution_count": null,
      "metadata": {
        "id": "B2Pcv2Moj2gL",
        "outputId": "b1b7129b-fc8a-440e-8353-0d16d6a8f690"
      },
      "outputs": [
        {
          "name": "stdout",
          "output_type": "stream",
          "text": [
            "42\n",
            "52\n"
          ]
        }
      ],
      "source": [
        "age = 42\n",
        "print(age)\n",
        "\n",
        "age = 52\n",
        "print(age) #A"
      ]
    },
    {
      "cell_type": "markdown",
      "metadata": {
        "id": "AFniM5cFj2gL"
      },
      "source": [
        "<p>En el codigo anterior, en la linea #A, realmente cambiamos el valor de (age)?, Si bien su valor paso de 42 a 52, las variables del tipo (int) son inmutables. Asi que lo que realmente sucedio, age es el nombre de la direccion en memoria donde el objeto int fue creado, cuando age paso a valer 52 se creo una nueva direccion en memoria para ese valor. Por lo tanto realmente no cambiamos el valor de (age), lo que sucedio es que se crearon dos direcciones en memoria con el mismo nombre pero diferente contenido</p>"
      ]
    },
    {
      "cell_type": "code",
      "execution_count": null,
      "metadata": {
        "id": "lsM6Ks27j2gL",
        "outputId": "04bd7380-d718-4f75-b28b-e028b8be6146"
      },
      "outputs": [
        {
          "name": "stdout",
          "output_type": "stream",
          "text": [
            "id:  2356478936592\n",
            "id:  2356478936912\n"
          ]
        }
      ],
      "source": [
        "age = 42\n",
        "print(\"id: \",id(age))\n",
        "\n",
        "age = 52\n",
        "print(\"id: \",id(age)) #A"
      ]
    },
    {
      "cell_type": "markdown",
      "metadata": {
        "id": "S8MRaU2Fj2gL"
      },
      "source": [
        "<p>Ahora veamos el mismo ejemplo utilizando un objeto mutable. Para este ejemplo,usaremos un objeto (Persona) la cual contara con una edad</p>"
      ]
    },
    {
      "cell_type": "code",
      "execution_count": null,
      "metadata": {
        "id": "PP1ILXvEj2gL",
        "outputId": "6c24c080-aecc-4f9a-dab3-47f888789613"
      },
      "outputs": [
        {
          "name": "stdout",
          "output_type": "stream",
          "text": [
            "Edad:  21\n",
            "Id:  2356560047280\n",
            "Id:  2356478935920\n",
            "\n",
            "Id:  2356560047280\n",
            "Id:  2356478936048\n"
          ]
        }
      ],
      "source": [
        "class Person:\n",
        "    def __init__(self, age):\n",
        "        self.age = age\n",
        "\n",
        "ernesto = Person(age=21)\n",
        "print(\"Edad: \",ernesto.age)\n",
        "print(\"Id: \",id(ernesto)) #Direccion en memoria de objeto ernesto\n",
        "print(\"Id: \",id(ernesto.age)) #Direccion en memoria de age del objeto ernesto\n",
        "\n",
        "ernesto.age = 25 #Cambiamos el valor de age de 21 a 25, su id deberia de cambiar debido a que es un objeto del tipo int\n",
        "print(\"\\nId: \",id(ernesto)) #El id del objeto ernesto no cambio\n",
        "print(\"Id: \",id(ernesto.age)) #El id de age cambio debido a que int es un dato inmutable se creo otra direccion en memoria\n",
        "\n"
      ]
    },
    {
      "cell_type": "markdown",
      "metadata": {
        "id": "BZgsaDwTj2gM"
      },
      "source": [
        "<font color=\"orange\"><h2>Numeros</h2></font>\n",
        "<h3>Enteros - Integers</h3>"
      ]
    },
    {
      "cell_type": "code",
      "execution_count": null,
      "metadata": {
        "id": "nbN5PXFaj2gM",
        "outputId": "38fbd249-863d-4df6-ddd4-26239ee97913"
      },
      "outputs": [
        {
          "name": "stdout",
          "output_type": "stream",
          "text": [
            "13\n",
            "7\n",
            "30\n",
            "3.3333333333333335\n",
            "3\n",
            "1\n",
            "1000\n"
          ]
        }
      ],
      "source": [
        "a = 10\n",
        "b = 3\n",
        "\n",
        "print(a+b) #Suma\n",
        "print(a-b) #Resta\n",
        "print(a*b) #Multi\n",
        "print(a/b) #Div\n",
        "print(a//b) #Div enteros\n",
        "print(a%b) #Modulo (reminder of division)\n",
        "print(a**b) #Exponente (pow operation)"
      ]
    },
    {
      "cell_type": "code",
      "execution_count": null,
      "metadata": {
        "id": "HQitEJv5j2gM",
        "outputId": "e5c04895-23f2-474f-a7c6-c1b0f2a05290"
      },
      "outputs": [
        {
          "name": "stdout",
          "output_type": "stream",
          "text": [
            "1.75\n",
            "1\n",
            "-1.75\n",
            "-2\n",
            "1\n",
            "-1\n",
            "1000\n",
            "1000\n",
            "0.001\n",
            "1\n",
            "0\n"
          ]
        }
      ],
      "source": [
        "print(7/4) #division verdadera\n",
        "print(7//4) #division enteros, resultado 1\n",
        "print(-7/4) #resulta igual que en el pimer caso\n",
        "print(-7//4) #no resulta en el mismo resultado que el caso 2\n",
        "print(int(1.75))\n",
        "print(int(-1.75))\n",
        "print(pow(10,3))\n",
        "print(10**3)\n",
        "print(pow(10,-3))\n",
        "print(10%3)\n",
        "print(10%2)\n"
      ]
    },
    {
      "cell_type": "markdown",
      "metadata": {
        "id": "C57LGk0vj2gM"
      },
      "source": [
        "<h3>Numeros complejos - Complex Numbers</h3>  \n",
        "<p>Los numeros complejos son expresados de forma (a + <i>i</i>b), donde a y b son numeros reales e <i>i</i> (<i>j</i> si eres ingeniero) es la unidad imaginaria </p>"
      ]
    },
    {
      "cell_type": "code",
      "execution_count": null,
      "metadata": {
        "id": "IzdNhaVqj2gM",
        "outputId": "5ce17b2b-6fdf-4a07-c040-bb51dda9fa60"
      },
      "outputs": [
        {
          "name": "stdout",
          "output_type": "stream",
          "text": [
            "3.14\n",
            "2.73\n",
            "(3.14-2.73j)\n",
            "(6.28+5.46j)\n",
            "(2.4067000000000007+17.1444j)\n",
            "\n",
            " (2.14+3.73j)\n"
          ]
        }
      ],
      "source": [
        "c = 3.14 + 2.73j #3,14 real, 2.73j parte imaginaria (j)\n",
        "c = complex(3.14+2.73j)\n",
        "\n",
        "print(c.real)\n",
        "print(c.imag)\n",
        "print(c.conjugate()) #Conjugado de A + BJ es lo mismo que A - BJ\n",
        "print(c*2) #Multiplica * 2 a la parte real e imaginaria por separado\n",
        "print(c**2)\n",
        "\n",
        "d = 1 - 1j\n",
        "print(\"\\n\",c-d) #Realiza la resta de las partes reales e imaginarias por separado"
      ]
    },
    {
      "cell_type": "markdown",
      "metadata": {
        "id": "Sa0pGhYkj2gN"
      },
      "source": [
        "<h3>Fractions and decimals</h3>"
      ]
    },
    {
      "cell_type": "code",
      "execution_count": null,
      "metadata": {
        "id": "I3dATjRGj2gN",
        "outputId": "97b1e202-e576-4134-9893-76f83155e2a2"
      },
      "outputs": [
        {
          "name": "stdout",
          "output_type": "stream",
          "text": [
            "5/3\n",
            "1\n",
            "10\n",
            "9\n"
          ]
        }
      ],
      "source": [
        "from fractions import Fraction\n",
        "print(Fraction(10, 6)) #10/6 o 5/3\n",
        "print(Fraction(1,3) + Fraction(2, 3)) #1/3 + 2/3 = 1/1\n",
        "\n",
        "f = Fraction(10,9)\n",
        "print(f.numerator)\n",
        "print(f.denominator)\n",
        "\n"
      ]
    },
    {
      "cell_type": "markdown",
      "metadata": {
        "id": "Xk9M9JBWj2gN"
      },
      "source": [
        "<font color=\"orange\"><h2>Secuencias inmutables - immutable sequences</h2></font>  \n",
        "<h3>String and bytes</h3>"
      ]
    },
    {
      "cell_type": "code",
      "execution_count": null,
      "metadata": {
        "id": "Om8M7170j2gN",
        "outputId": "1a0dc4b8-ee0b-471f-b18d-0b1bcfbbabf5"
      },
      "outputs": [
        {
          "name": "stdout",
          "output_type": "stream",
          "text": [
            "This too\n",
            "... is a multiline one\n",
            "... built with triple double-quotes.\n",
            "49\n"
          ]
        }
      ],
      "source": [
        "str1 = 'This is a string. We built it with single quotes.'\n",
        "str2 = \"This is also a string, but built with double quotes.\"\n",
        "str3 = '''This is built using triple quotes,\n",
        "... so it can span multiple lines.'''\n",
        "str4 = \"\"\"This too\n",
        "... is a multiline one\n",
        "... built with triple double-quotes.\"\"\"\n",
        "\n",
        "print(str4)\n",
        "print(len(str1))"
      ]
    },
    {
      "cell_type": "code",
      "execution_count": null,
      "metadata": {
        "id": "ReB7Rks2j2gN",
        "outputId": "f3929fde-e895-43af-bad9-0ac775429f73"
      },
      "outputs": [
        {
          "name": "stdout",
          "output_type": "stream",
          "text": [
            "a Todos\n",
            "Hola T\n"
          ]
        }
      ],
      "source": [
        "s = 'Hola Todos'\n",
        "\n",
        "print(s.removeprefix('Hol')) #Elimina el prefijo\n",
        "print(s.removesuffix('odos'))  #Elimina el sufijo\n"
      ]
    },
    {
      "cell_type": "markdown",
      "metadata": {
        "id": "qPX0XE1cj2gN"
      },
      "source": [
        "<h3>Indexacion y separando strings - Indexing and slicing strings</h3>  \n",
        "<p>Cuando manipulamos secuencias, es muy común accesar a ella en algun preciso momento <b>(indexing)</b>, o obtener una sub-sentencia <b>(slicing)</b>. Cuando tratamos con sentencias inmutables, algunas operaciones son solo para lectura</p>"
      ]
    },
    {
      "cell_type": "code",
      "execution_count": null,
      "metadata": {
        "id": "6tC7XPVij2gN",
        "outputId": "315f41da-8076-4152-df2b-6337b78dca0f"
      },
      "outputs": [
        {
          "name": "stdout",
          "output_type": "stream",
          "text": [
            "T\n",
            "r\n",
            "The \n",
            "trouble is you think you have time.\n",
            "e trouble is\n",
            "erb \n",
            "The trouble is you think you have time.\n"
          ]
        }
      ],
      "source": [
        "s = \"The trouble is you think you have time.\"\n",
        "print(s[0]) #id 0\n",
        "print(s[5]) #id 5\n",
        "print(s[:4]) #Imprime todo antes del id 4, incluyendo el espacio\n",
        "print(s[4:]) #Imprime todo despues del id 4\n",
        "print(s[2:14]) #Imprime todo despues del id 2  y antes del id 14\n",
        "print(s[2:14:3]) # slicing, start, stop and step (every 3 chars)\n",
        "print(s[:]) #Manera rapida de crear una copia\n"
      ]
    },
    {
      "cell_type": "markdown",
      "metadata": {
        "id": "33uOShwNj2gO"
      },
      "source": [
        "<h3>String formatting</h3>"
      ]
    },
    {
      "cell_type": "code",
      "execution_count": null,
      "metadata": {
        "id": "n79aJz85j2gO",
        "outputId": "586a2042-d9f2-455e-96d2-a247ef68c5d7"
      },
      "outputs": [
        {
          "name": "stdout",
          "output_type": "stream",
          "text": [
            "Hola Ernesto!\n",
            "Hola Ernesto!\n",
            "Hola Ernesto Reyes!\n",
            "Esto es Jugo!, Ernesto ama el Jugo!\n",
            "Hola, mi nombre es Ernesto Reyes\n"
          ]
        }
      ],
      "source": [
        "greet_old = 'Hola %s!'\n",
        "print(greet_old % 'Ernesto')\n",
        "\n",
        "greet_positional = 'Hola {}!'\n",
        "print(greet_positional.format('Ernesto'))\n",
        "\n",
        "greet_positional = 'Hola {} {}!'\n",
        "print(greet_positional.format('Ernesto','Reyes'))\n",
        "\n",
        "greet_positional_idx = 'Esto es {0}!, {1} ama el {0}!'\n",
        "print(greet_positional_idx.format('Jugo','Ernesto'))\n",
        "\n",
        "keyword = 'Hola, mi nombre es {name} {last_name}'\n",
        "print(keyword.format(name='Ernesto',last_name='Reyes'))"
      ]
    },
    {
      "cell_type": "code",
      "execution_count": null,
      "metadata": {
        "id": "eFNA93NHj2gO",
        "outputId": "526a4932-df2a-460d-a3f7-e64788bf8ede"
      },
      "outputs": [
        {
          "name": "stdout",
          "output_type": "stream",
          "text": [
            "Hola!, Mi nombre es Ernesto y mi edad es 21\n",
            "No arguin with 3.141592653589793, it's irrartional...\n"
          ]
        }
      ],
      "source": [
        "name = 'Ernesto'\n",
        "age = 21\n",
        "print(f\"Hola!, Mi nombre es {name} y mi edad es {age}\") #format protocol\n",
        "\n",
        "from math import pi\n",
        "print(f\"No arguin with {pi}, it's irrartional...\")"
      ]
    },
    {
      "cell_type": "code",
      "execution_count": null,
      "metadata": {
        "id": "q4Kpfwp4j2gO",
        "outputId": "7eab868e-6e05-4652-eecc-18decd2eaa00"
      },
      "outputs": [
        {
          "name": "stdout",
          "output_type": "stream",
          "text": [
            "Loggearse con: Ernesto123 y contraseña123\n",
            "Loggearse con: user='Ernesto123' y password='contraseña123'\n"
          ]
        }
      ],
      "source": [
        "user = 'Ernesto123'\n",
        "password = 'contraseña123'\n",
        "\n",
        "print(f\"Loggearse con: {user} y {password}\")\n",
        "print(f\"Loggearse con: {user=} y {password=}\")"
      ]
    },
    {
      "cell_type": "markdown",
      "metadata": {
        "id": "bUqCqKc7j2gO"
      },
      "source": [
        "<h3>Tuples</h3>"
      ]
    },
    {
      "cell_type": "code",
      "execution_count": null,
      "metadata": {
        "id": "q7VHwTufj2gO",
        "outputId": "6aa1c80f-a2ed-426f-e2cb-04bdd83d3120"
      },
      "outputs": [
        {
          "name": "stdout",
          "output_type": "stream",
          "text": [
            "<class 'tuple'>\n",
            "\n",
            " 1\n",
            "2\n",
            "3\n",
            "1 2 3\n",
            "True\n"
          ]
        }
      ],
      "source": [
        "t = () #Tupla vacia\n",
        "print(type(t))\n",
        "\n",
        "one_element_tuple = (42, ) #Es necesaria la coma\n",
        "three_element_tuple = (1, 3, 5) #Parentesis opcionales\n",
        "\n",
        "a, b, c = 1, 2, 3 #tuplas con multiples asignamientos\n",
        "print(\"\\n\",a)\n",
        "print(b)\n",
        "print(c)\n",
        "print(a, b, c)\n",
        "print(3 in three_element_tuple)\n"
      ]
    },
    {
      "cell_type": "markdown",
      "metadata": {
        "id": "3Cv09nUJj2gO"
      },
      "source": [
        "<font color=\"orange\"><h2>Mutable sequences</h2></font>"
      ]
    },
    {
      "cell_type": "markdown",
      "metadata": {
        "id": "munj9N75j2gO"
      },
      "source": [
        "<h3>Listas</h3>"
      ]
    },
    {
      "cell_type": "code",
      "execution_count": null,
      "metadata": {
        "id": "-kAH55xij2gP",
        "outputId": "5c23a934-ccbd-41f9-b3fe-ca0bc12d8f36"
      },
      "outputs": [
        {
          "name": "stdout",
          "output_type": "stream",
          "text": [
            "[]\n",
            "[1, 2, 3]\n",
            "[7, 8, 9]\n",
            "['h', 'o', 'l', 'a']\n"
          ]
        }
      ],
      "source": [
        "print(list()) #Lista vacia\n",
        "a = [1,2,3] #Igual que las tuplas los datos van separados por comas\n",
        "print(a)\n",
        "print([x + 5 for x in [2, 3, 4]])\n",
        "print(list('hola')) #lista de un string\n",
        "\n",
        "\n"
      ]
    },
    {
      "cell_type": "code",
      "execution_count": null,
      "metadata": {
        "id": "v2n2OjzNj2gP",
        "outputId": "c002e5e2-bb9e-43c4-a335-a7b92c0ad43c"
      },
      "outputs": [
        {
          "name": "stdout",
          "output_type": "stream",
          "text": [
            "[1, 2, 3, 4, 5, 6]\n"
          ]
        }
      ],
      "source": [
        "b = [1,2,3,4]\n",
        "b.append(13)#Append agrega los datos al final de la lista\n",
        "b.count(2) #Cuantos 2 hay en la lista b\n",
        "b.extend([5,6]) #Agrega varios elementos al final de la lista\n",
        "b.index(4) #Retorna la posicion en la lista del elemento buscado\n",
        "b.insert(0,7) #Insera el numero 7 en la posicion 0, todos los elementos seran recorridos\n",
        "b.pop(1) #elimina la posicion 1 de la lista\n",
        "b.remove(7) #elimina el numero 7 de la lista\n",
        "b.reverse() #invierte la lista\n",
        "b.sort() #Ordena la lista\n",
        "#b.clear() #Vacia la lista\n",
        "\n",
        "min(b) #minimo b\n",
        "max(b) #maximo b\n",
        "sum(b) #suma de los elementos b\n",
        "\n",
        "\n",
        "from math import prod\n",
        "prod(a) #producto de b\n",
        "len(b) #elementos de la lista\n",
        "\n",
        "c=[1,2,3]\n",
        "d=[4,5,6]\n",
        "print(c+d) #suma de dos listas\n",
        "\n",
        "\n",
        "\n",
        "\n"
      ]
    },
    {
      "cell_type": "markdown",
      "metadata": {
        "id": "uF2KkhF-j2gP"
      },
      "source": [
        "<font color=\"orange\"><h2>Data types</h2></font>"
      ]
    },
    {
      "cell_type": "markdown",
      "metadata": {
        "id": "xLEnQWwWj2gP"
      },
      "source": [
        "<h3>Dates</h3>"
      ]
    },
    {
      "cell_type": "code",
      "execution_count": null,
      "metadata": {
        "id": "_49o9bqHj2gP",
        "outputId": "a9fd7db5-7414-45ef-8b3c-c30139ffc2ff"
      },
      "outputs": [
        {
          "name": "stdout",
          "output_type": "stream",
          "text": [
            "2023-09-17\n",
            "Sun Sep 17 00:00:00 2023\n",
            "2023-09-17\n",
            "6\n",
            "Sunday\n",
            "17\n",
            "9\n",
            "2023\n",
            "time.struct_time(tm_year=2023, tm_mon=9, tm_mday=17, tm_hour=0, tm_min=0, tm_sec=0, tm_wday=6, tm_yday=260, tm_isdst=-1)\n"
          ]
        }
      ],
      "source": [
        "from datetime import date, datetime, timedelta, timezone\n",
        "import time\n",
        "import calendar as cal\n",
        "from zoneinfo import ZoneInfo\n",
        "\n",
        "today = date.today() #Fecha de hoy\n",
        "print(today)\n",
        "print(today.ctime())\n",
        "print(today.isoformat())\n",
        "print(today.weekday()) #Dia actual de la semana en numero\n",
        "print(cal.day_name[today.weekday()]) #Dia actual de la semana en nombre\n",
        "print(today.day) #Dia actual del mes\n",
        "print(today.month) #mes actual del año\n",
        "print(today.year) #año\n",
        "print(today.timetuple())\n",
        "\n"
      ]
    },
    {
      "cell_type": "markdown",
      "metadata": {
        "id": "MKM1ra9Kj2gQ"
      },
      "source": [
        "<h3>Times</h3>"
      ]
    },
    {
      "cell_type": "code",
      "execution_count": null,
      "metadata": {
        "id": "PGqzP4ZXj2gQ",
        "outputId": "abc36870-7840-4830-d153-4329efdc0be4"
      },
      "outputs": [
        {
          "name": "stdout",
          "output_type": "stream",
          "text": [
            "Sun Sep 17 17:17:02 2023\n",
            "0\n",
            "time.struct_time(tm_year=2023, tm_mon=9, tm_mday=17, tm_hour=23, tm_min=17, tm_sec=2, tm_wday=6, tm_yday=260, tm_isdst=0)\n",
            "time.struct_time(tm_year=1970, tm_mon=1, tm_mday=1, tm_hour=0, tm_min=0, tm_sec=0, tm_wday=3, tm_yday=1, tm_isdst=0)\n",
            "time.struct_time(tm_year=2023, tm_mon=9, tm_mday=17, tm_hour=17, tm_min=17, tm_sec=2, tm_wday=6, tm_yday=260, tm_isdst=0)\n",
            "1694992622.0402496\n",
            "\n",
            " 2023-09-17 17:17:02.040249\n",
            "2023-09-17 23:17:02.040249\n",
            "2023-09-17\n",
            "17:17:02.040249\n",
            "time.struct_time(tm_year=2023, tm_mon=9, tm_mday=17, tm_hour=17, tm_min=17, tm_sec=2, tm_wday=6, tm_yday=260, tm_isdst=-1)\n"
          ]
        }
      ],
      "source": [
        "print(time.ctime()) #fecha + hora\n",
        "print(time.daylight) #1 dia, 0 noche\n",
        "print(time.gmtime())\n",
        "print(time.gmtime(0)) #\n",
        "print(time.localtime()) #tiempo y hora local\n",
        "print(time.time())\n",
        "\n",
        "now = datetime.now() #fecha y hora\n",
        "utcnow = datetime.utcnow() #fecha y hora utc\n",
        "print(\"\\n\",now)\n",
        "print(utcnow)\n",
        "print(now.date()) #fecha\n",
        "print(now.time()) #hora\n",
        "print(now.timetuple())\n",
        "\n"
      ]
    },
    {
      "cell_type": "markdown",
      "metadata": {
        "id": "NsKu4l6Zj2gQ"
      },
      "source": [
        "<font color=\"orange\"><h2>Scopes and name resolution</h2></font>"
      ]
    },
    {
      "cell_type": "code",
      "execution_count": null,
      "metadata": {
        "id": "r5LKnArDj2gQ",
        "outputId": "800566db-f71a-4ddc-80c5-a086cbe4c042"
      },
      "outputs": [
        {
          "name": "stdout",
          "output_type": "stream",
          "text": [
            "my_function: 1\n",
            "global: 0\n"
          ]
        }
      ],
      "source": [
        "# scoping.level.1.py\n",
        "def my_function():\n",
        "    test = 1 # this is defined in the local scope of the function\n",
        "    print('my_function:', test)\n",
        "\n",
        "test = 0 # this is defined in the global scope\n",
        "my_function()\n",
        "print('global:', test)"
      ]
    },
    {
      "cell_type": "code",
      "execution_count": null,
      "metadata": {
        "id": "Yq4Co2vtj2gQ",
        "outputId": "f7fa9aab-d418-4959-b4db-611516110657"
      },
      "outputs": [
        {
          "name": "stdout",
          "output_type": "stream",
          "text": [
            "inner: 2\n",
            "outer: 1\n",
            "global: 0\n"
          ]
        }
      ],
      "source": [
        "# scoping.level.2.py\n",
        "def outer():\n",
        "    test = 1 # outer scope\n",
        "    def inner():\n",
        "        test = 2 # inner scope\n",
        "        print('inner:', test)\n",
        "\n",
        "    inner()\n",
        "    print('outer:', test)\n",
        "\n",
        "test = 0 # global scope\n",
        "outer()\n",
        "print('global:', test)"
      ]
    },
    {
      "cell_type": "markdown",
      "metadata": {
        "id": "4_32R9gBj2gR"
      },
      "source": [
        "<font color=\"orange\"><h2>The global and nonlocal statements</h2></font>\n"
      ]
    },
    {
      "cell_type": "code",
      "execution_count": null,
      "metadata": {
        "id": "L94Cn2aLj2gR",
        "outputId": "55f9e422-03d7-4684-e1a6-8448779810ca"
      },
      "outputs": [
        {
          "name": "stdout",
          "output_type": "stream",
          "text": [
            "inner: 2\n",
            "outer: 2\n",
            "global: 0\n"
          ]
        }
      ],
      "source": [
        "# scoping.level.2.nonlocal.py\n",
        "def outer():\n",
        "    test = 1 # outer scope\n",
        "\n",
        "    def inner():\n",
        "        nonlocal test\n",
        "        test = 2 # nearest enclosing scope (which is 'outer')\n",
        "        print('inner:', test)\n",
        "\n",
        "    inner()\n",
        "    print('outer:', test)\n",
        "\n",
        "test = 0 # global scope\n",
        "outer()\n",
        "print('global:', test)"
      ]
    },
    {
      "cell_type": "markdown",
      "metadata": {
        "id": "BzMaFudEj2gR"
      },
      "source": [
        "<p>look at that result! It means that, by declaring test to be nonlocal in the inner() function, we actually get to bind the test name to the one declared in the\n",
        "outer function. If we removed the nonlocal test line from the inner() function and\n",
        "tried the same trick in the outer() function, we would get a SyntaxError, because the\n",
        "nonlocal statement works on enclosing scopes, excluding the global one.</p>"
      ]
    },
    {
      "cell_type": "code",
      "execution_count": null,
      "metadata": {
        "id": "ytXmkYOoj2gR",
        "outputId": "f062007b-0649-4acb-e6cb-88ff323f55f4"
      },
      "outputs": [
        {
          "name": "stdout",
          "output_type": "stream",
          "text": [
            "inner: 2\n",
            "outer: 1\n",
            "global: 2\n"
          ]
        }
      ],
      "source": [
        "# scoping.level.2.global.py\n",
        "def outer():\n",
        "    test = 1 # outer scope\n",
        "\n",
        "    def inner():\n",
        "        global test\n",
        "        test = 2 # global scope\n",
        "        print('inner:', test)\n",
        "\n",
        "    inner()\n",
        "    print('outer:', test)\n",
        "\n",
        "test = 0 # global scope\n",
        "outer()\n",
        "print('global:', test)"
      ]
    },
    {
      "cell_type": "markdown",
      "metadata": {
        "id": "eSVoqQ1ij2gR"
      },
      "source": [
        "This shows that the name affected by the test = 2 assignment is now the global one.\n",
        "This trick would also work in the outer function because, in this case, we're referring\n",
        "to the global scope."
      ]
    },
    {
      "cell_type": "markdown",
      "metadata": {
        "id": "VaICdhljj2gR"
      },
      "source": [
        "<font color=\"orange\"><h2>Assignment to parameter names</h2></font>"
      ]
    },
    {
      "cell_type": "code",
      "execution_count": null,
      "metadata": {
        "id": "BNruSYSdj2gR",
        "outputId": "9784111c-eb85-4e98-84d5-9933b1acdc7b"
      },
      "outputs": [
        {
          "name": "stdout",
          "output_type": "stream",
          "text": [
            "3\n"
          ]
        }
      ],
      "source": [
        "# key.points.assignment.py\n",
        "x = 3\n",
        "def func(x):\n",
        "    x = 7 # defining a local x, not changing the global one\n",
        "\n",
        "func(x)\n",
        "print(x) # prints: 3"
      ]
    },
    {
      "cell_type": "markdown",
      "metadata": {
        "id": "VkPjUgDBj2gR"
      },
      "source": [
        "In the preceding code, when we call the function with func(x), the instruction x = 7\n",
        "is executed within the local scope of the func() function; the name, x, is pointed to an\n",
        "integer with a value of 7, leaving the global x unaltered."
      ]
    },
    {
      "cell_type": "markdown",
      "metadata": {
        "id": "3KULcChvj2gR"
      },
      "source": [
        "<font color=\"orange\"><h2>Changing a mutable object</h2></font>"
      ]
    },
    {
      "cell_type": "markdown",
      "metadata": {
        "id": "8KZFubJcj2gR"
      },
      "source": [
        "Changing a mutable object affects the caller. This is the final point, and it's very\n",
        "important because Python apparently behaves differently with mutable objects\n",
        "(just apparently, though). Let's look at an example:"
      ]
    },
    {
      "cell_type": "code",
      "execution_count": null,
      "metadata": {
        "id": "LhLTOmePj2gR",
        "outputId": "292cf6e6-8887-42d9-8c37-98b0dc57c7db"
      },
      "outputs": [
        {
          "name": "stdout",
          "output_type": "stream",
          "text": [
            "[1, 42, 3]\n"
          ]
        }
      ],
      "source": [
        "# key.points.mutable.py\n",
        "x = [1, 2, 3]\n",
        "def func(x):\n",
        "    x[1] = 42 # this affects the 'x' argument!\n",
        "\n",
        "func(x)\n",
        "print(x) # prints: [1, 42, 3]"
      ]
    },
    {
      "cell_type": "markdown",
      "metadata": {
        "id": "v-nWVHPJj2gR"
      },
      "source": [
        "We are merely accessing the element at position 1 in that\n",
        "object, and changing its value."
      ]
    },
    {
      "cell_type": "markdown",
      "metadata": {
        "id": "YFV6kLiuj2gR"
      },
      "source": [
        "<font color=\"orange\"><h2>Passing arguments</h2></font>"
      ]
    },
    {
      "cell_type": "markdown",
      "metadata": {
        "id": "ww7k7hLTj2gR"
      },
      "source": [
        "There are four different ways of passing arguments to a function:  \n",
        "• Positional arguments  \n",
        "• Keyword arguments  \n",
        "• Iterable unpacking  \n",
        "• Dictionary unpacking  "
      ]
    },
    {
      "cell_type": "markdown",
      "metadata": {
        "id": "_jgT0gpHj2gS"
      },
      "source": [
        "<h3>Positional arguments</h3>  \n",
        "<p>When we call a function, each positional argument is assigned to the parameter in\n",
        "the corresponding position in the function definition:</p>"
      ]
    },
    {
      "cell_type": "code",
      "execution_count": null,
      "metadata": {
        "id": "ImgImB74j2gS",
        "outputId": "8f321cb1-800d-4671-956c-a8338ffe795b"
      },
      "outputs": [
        {
          "name": "stdout",
          "output_type": "stream",
          "text": [
            "1 2 3\n"
          ]
        }
      ],
      "source": [
        "# arguments.positional.py\n",
        "def func(a, b, c):\n",
        "    print(a, b, c)\n",
        "\n",
        "func(1, 2, 3) # prints: 1 2 3"
      ]
    },
    {
      "cell_type": "markdown",
      "metadata": {
        "id": "-S9lQ_Iej2gS"
      },
      "source": [
        "<h3>Keyword arguments</h3>  \n",
        "<p>When we use keyword arguments, the order of the arguments does not need\n",
        "to match the order of the parameters in the function definition. This can make\n",
        "our code easier to read and debug. We don't need to remember (or look up) the\n",
        "order of parameters in a function definition. We can look at a function call and\n",
        "immediately know which argument corresponds to which parameter.</p>"
      ]
    },
    {
      "cell_type": "code",
      "execution_count": null,
      "metadata": {
        "id": "I62WwjrRj2gS",
        "outputId": "ba17a304-fef0-4300-e925-cd033329681e"
      },
      "outputs": [
        {
          "name": "stdout",
          "output_type": "stream",
          "text": [
            "1 3 2\n"
          ]
        }
      ],
      "source": [
        "# arguments.keyword.py\n",
        "def func(a, b, c):\n",
        "    print(a, b, c)\n",
        "\n",
        "func(a=1, c=2, b=3) # prints: 1 3 2"
      ]
    },
    {
      "cell_type": "code",
      "execution_count": null,
      "metadata": {
        "id": "ywrGn30oj2gS",
        "outputId": "f5d899cc-22a4-4c1d-a0a3-3adb79fee45a"
      },
      "outputs": [
        {
          "name": "stdout",
          "output_type": "stream",
          "text": [
            "42 1 2\n"
          ]
        }
      ],
      "source": [
        "# arguments.positional.keyword.py\n",
        "def func(a, b, c):\n",
        "    print(a, b, c)\n",
        "\n",
        "func(42, b=1, c=2)"
      ]
    },
    {
      "cell_type": "markdown",
      "metadata": {
        "id": "GqULyjZej2gS"
      },
      "source": [
        "<h3>Iterable unpacking</h3>\n",
        "<p>Iterable unpacking uses the syntax *iterable_name to pass the elements of an iterable\n",
        "as positional arguments to a function:</p>"
      ]
    },
    {
      "cell_type": "code",
      "execution_count": null,
      "metadata": {
        "id": "9OouS7S_j2gS",
        "outputId": "c6d087c9-83e5-49a0-a40a-d49c1e63eab9"
      },
      "outputs": [
        {
          "name": "stdout",
          "output_type": "stream",
          "text": [
            "1 3 -7\n"
          ]
        }
      ],
      "source": [
        "# arguments.unpack.iterable.py\n",
        "def func(a, b, c):\n",
        "    print(a, b, c)\n",
        "\n",
        "values = (1, 3, -7)\n",
        "func(*values) # equivalent to: func(1, 3, -7)"
      ]
    },
    {
      "cell_type": "markdown",
      "metadata": {
        "id": "6BJazk9jj2gS"
      },
      "source": [
        "<h3>Dictionary unpacking</h3>  \n",
        "<p>Dictionary unpacking is to keyword arguments what iterable unpacking is to\n",
        "positional arguments. We use the syntax **dictionary_name to pass keyword\n",
        "arguments, constructed from the keys and values of a dictionary, to a function:</p>"
      ]
    },
    {
      "cell_type": "code",
      "execution_count": null,
      "metadata": {
        "id": "3AxGT2z0j2gS",
        "outputId": "b1d531a9-71e3-44fe-ecaa-d9402e4a69a3"
      },
      "outputs": [
        {
          "name": "stdout",
          "output_type": "stream",
          "text": [
            "42 1 2\n"
          ]
        }
      ],
      "source": [
        "def func(a, b, c):\n",
        "    print(a, b, c)\n",
        "\n",
        "values = {'b': 1, 'c': 2, 'a': 42}\n",
        "func(**values) # equivalent to func(b=1, c=2, a=42)"
      ]
    },
    {
      "cell_type": "markdown",
      "metadata": {
        "id": "3mXr4_Bdj2gS"
      },
      "source": [
        "<font color=\"orange\"><h2>Return Values</h2></font>"
      ]
    },
    {
      "cell_type": "code",
      "execution_count": null,
      "metadata": {
        "id": "VoJkp-T0j2gS",
        "outputId": "68b10150-6f2e-45de-cf63-7d0659dbf85c"
      },
      "outputs": [
        {
          "name": "stdout",
          "output_type": "stream",
          "text": [
            "None\n"
          ]
        }
      ],
      "source": [
        "# return.none.py\n",
        "def func():\n",
        "    pass\n",
        "\n",
        "func() # the return of this call won't be collected. It's lost.\n",
        "a = func() # the return of this one instead is collected into 'a'\n",
        "print(a) # prints: None"
      ]
    },
    {
      "cell_type": "code",
      "execution_count": null,
      "metadata": {
        "id": "i7wMMajSj2gS",
        "outputId": "ff1ff32a-5890-4d41-ea15-22d907176354"
      },
      "outputs": [
        {
          "name": "stdout",
          "output_type": "stream",
          "text": [
            "120\n"
          ]
        }
      ],
      "source": [
        "# return.single.value.py\n",
        "def factorial(n):\n",
        "    if n in (0, 1):\n",
        "        return 1\n",
        "    result = n\n",
        "    for k in range(2, n):\n",
        "        result *= k\n",
        "    return result\n",
        "\n",
        "f5 = factorial(5) # f5 = 120\n",
        "print(f5)"
      ]
    },
    {
      "cell_type": "code",
      "execution_count": null,
      "metadata": {
        "id": "e0BGDfCvj2gS",
        "outputId": "cb68b967-b3b1-4177-bbc8-1ee91a32f226"
      },
      "outputs": [
        {
          "name": "stdout",
          "output_type": "stream",
          "text": [
            "120\n"
          ]
        }
      ],
      "source": [
        "# return.single.value.2.py\n",
        "from functools import reduce\n",
        "from operator import mul\n",
        "\n",
        "def factorial(n):\n",
        "    return reduce(mul, range(1, n + 1), 1)\n",
        "f5 = factorial(5) # f5 = 120\n",
        "print(f5)"
      ]
    },
    {
      "cell_type": "markdown",
      "metadata": {
        "id": "JjGXVnDIj2gT"
      },
      "source": [
        "<font color=\"orange\"><h2>Returning multiples values</h2></font>\n",
        "<p>To return multiple values is very easy: you just use tuples (either explicitly or\n",
        "implicitly). Let's look at a simple example that mimics the divmod() built-in function:</p>"
      ]
    },
    {
      "cell_type": "code",
      "execution_count": null,
      "metadata": {
        "id": "eK0dnFhqj2gT",
        "outputId": "825e8951-0b25-407f-cd45-e8d3736384d4"
      },
      "outputs": [
        {
          "name": "stdout",
          "output_type": "stream",
          "text": [
            "(2, 6)\n"
          ]
        }
      ],
      "source": [
        "# return.multiple.py\n",
        "def moddiv(a, b):\n",
        "    return a // b, a % b #Division de enteros, producto\n",
        "\n",
        "print(moddiv(20, 7)) # prints (2, 6)"
      ]
    },
    {
      "cell_type": "markdown",
      "metadata": {
        "id": "RGiLdbKBj2gT"
      },
      "source": [
        "<font color=\"orange\"><h2>Anonymous function (Lambda)</h2></font>\n",
        "These functions, which are called lambdas in Python. Imagine that we wanted a list of all the numbers up to a certain value of N that are\n",
        "also multiples of five. We could use the filter() function for this, which will require\n",
        "a function and an iterable as input. The return value is a filter object that, when you\n",
        "iterate over it, yields the elements from the input iterable for which the function\n",
        "returns True. Without using an anonymous function, we might do something\n",
        "like this:"
      ]
    },
    {
      "cell_type": "code",
      "execution_count": null,
      "metadata": {
        "id": "XxxXTkR_j2gT"
      },
      "outputs": [],
      "source": [
        "# filter.regular.py\n",
        "def is_multiple_of_five(n):\n",
        "    return not n % 5\n",
        "\n",
        "def get_multiples_of_five(n):\n",
        "    return list(filter(is_multiple_of_five, range(n)))\n",
        "\n",
        "# filter.lambda.py\n",
        "def get_multiples_of_five(n):\n",
        "    return list(filter(lambda k: not k % 5, range(n)))\n",
        "\n"
      ]
    },
    {
      "cell_type": "markdown",
      "metadata": {
        "id": "OZrakw4Yj2gT"
      },
      "source": [
        "The logic is exactly the same, but the filtering function is now a lambda. Defining a\n",
        "lambda is very easy and follows this form: func_name = lambda [parameter_list]:\n",
        "expression. A function object is returned, which is equivalent to this: def func_\n",
        "name([parameter_list]): return expression."
      ]
    },
    {
      "cell_type": "code",
      "execution_count": null,
      "metadata": {
        "id": "o_99pNWHj2gT",
        "outputId": "d4ddc90b-2f28-41a4-805f-fb8d3754f452"
      },
      "outputs": [
        {
          "name": "stdout",
          "output_type": "stream",
          "text": [
            "6\n",
            "6\n",
            "\n",
            "HOLA\n",
            "HOLAS\n"
          ]
        }
      ],
      "source": [
        "# lambda.explained.py\n",
        "# example 1: adder\n",
        "def adder(a, b):\n",
        "    return a + b\n",
        "# is equivalent to:\n",
        "adder_lambda = lambda a, b: a + b\n",
        "\n",
        "print(adder(1,5))\n",
        "print(adder_lambda(1,5))\n",
        "\n",
        "# example 2: to uppercase\n",
        "def to_upper(s):\n",
        "    return s.upper()\n",
        "# is equivalent to:\n",
        "to_upper_lambda = lambda s: s.upper()\n",
        "\n",
        "print(to_upper(\"\\nhola\"))\n",
        "print(to_upper_lambda(\"holas\"))\n"
      ]
    },
    {
      "cell_type": "markdown",
      "metadata": {
        "id": "XBfAoVNwj2gT"
      },
      "source": [
        "<font color=\"orange\"><h2>Importing objects</h2></font>\n",
        "The import module_name form finds the module_name module and defines a name\n",
        "for it in the local namespace, where the import statement is executed. The from\n",
        "module_name import identifier form is a little bit more complicated than that but\n",
        "basically does the same thing. It finds module_name and searches for an attribute\n",
        "(or a submodule) and stores a reference to identifier in the local namespace.    \n",
        "Both forms have the option to change the name of the imported object using the as clause:"
      ]
    },
    {
      "cell_type": "code",
      "execution_count": null,
      "metadata": {
        "id": "E20lDnoGj2gT"
      },
      "outputs": [],
      "source": [
        "#from mymodule import myfunc as better_named_func"
      ]
    },
    {
      "cell_type": "code",
      "execution_count": null,
      "metadata": {
        "id": "Z2pVDkimj2gT"
      },
      "outputs": [],
      "source": [
        "# imports.py\n",
        "from datetime import datetime, timezone # two imports on the same line\n",
        "from unittest.mock import patch # single import\n",
        "#import pytest # third party library\n",
        "\n",
        "#from core.models import ( # multiline import\n",
        "#    Exam,\n",
        "#    Exercise,\n",
        "#    Solution,\n",
        "#)"
      ]
    }
  ],
  "metadata": {
    "kernelspec": {
      "display_name": "Python 3",
      "language": "python",
      "name": "python3"
    },
    "language_info": {
      "codemirror_mode": {
        "name": "ipython",
        "version": 3
      },
      "file_extension": ".py",
      "mimetype": "text/x-python",
      "name": "python",
      "nbconvert_exporter": "python",
      "pygments_lexer": "ipython3",
      "version": "3.10.11"
    },
    "orig_nbformat": 4,
    "colab": {
      "provenance": [],
      "include_colab_link": true
    }
  },
  "nbformat": 4,
  "nbformat_minor": 0
}