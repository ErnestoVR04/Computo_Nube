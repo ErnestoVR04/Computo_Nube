{
 "cells": [
  {
   "cell_type": "code",
   "execution_count": 1,
   "metadata": {},
   "outputs": [],
   "source": [
    "from Modulo import (mediana_de_tres, \n",
    "                    calcular_hipotenusa, \n",
    "                    es_primo, \n",
    "                    generar_contrasena_aleatoria, \n",
    "                    siguiente_primo)"
   ]
  },
  {
   "cell_type": "code",
   "execution_count": 3,
   "metadata": {},
   "outputs": [
    {
     "name": "stdout",
     "output_type": "stream",
     "text": [
      "El numero 1 no es primo\n"
     ]
    }
   ],
   "source": [
    "if __name__ == '__main__':\n",
    "    #EJERCIO 1\n",
    "    try:\n",
    "        numero = int(input(\"Ingresa un numero: \"))\n",
    "        if es_primo(numero):\n",
    "            print(\"El numero {} es primo\".format(numero))\n",
    "        else:\n",
    "            print(\"El numero {} no es primo\".format(numero))\n",
    "\n",
    "    except ValueError: \n",
    "        print(\"Ingresa los datos de mnaera correcta\")\n",
    "    "
   ]
  },
  {
   "cell_type": "code",
   "execution_count": 4,
   "metadata": {},
   "outputs": [
    {
     "name": "stdout",
     "output_type": "stream",
     "text": [
      "El siguiente numero primo despues de 6 es 7\n"
     ]
    }
   ],
   "source": [
    "if __name__ == \"__main__\":\n",
    "    #EJERCICIO 2\n",
    "    try:\n",
    "\n",
    "        numero = int(input(\"Ingresa un numero: \"))\n",
    "        siguienteP = siguiente_primo(numero)\n",
    "        print(f\"El siguiente numero primo despues de {numero} es {siguienteP}\")\n",
    "\n",
    "    except ValueError:\n",
    "        print(\"Ingresa los datos de mnaera correcta\")"
   ]
  },
  {
   "cell_type": "code",
   "execution_count": 5,
   "metadata": {},
   "outputs": [
    {
     "name": "stdout",
     "output_type": "stream",
     "text": [
      "La mediana de 5.0, 10.0, 9.0 es: 9.0\n",
      "\n"
     ]
    }
   ],
   "source": [
    "if __name__ == \"__main__\":\n",
    "    #EJERCICIO 3\n",
    "    try:\n",
    "        n1 = float(input(\"Ingresa el numero 1: \"))\n",
    "        n2 = float(input(\"Ingresa el numero 2: \"))\n",
    "        n3 = float(input(\"Ingresa el numero 3: \"))\n",
    "\n",
    "        mediana = mediana_de_tres(n1,n2,n3)\n",
    "        print(f\"La mediana de {n1}, {n2}, {n3} es: {mediana}\\n\")\n",
    "\n",
    "\n",
    "    except ValueError:\n",
    "        print(\"Ingresa los datos de mnaera correcta\")"
   ]
  },
  {
   "cell_type": "code",
   "execution_count": 6,
   "metadata": {},
   "outputs": [
    {
     "name": "stdout",
     "output_type": "stream",
     "text": [
      "Contraseña generada: pksPY6QZ;?\n",
      "\n"
     ]
    }
   ],
   "source": [
    "if __name__ == \"__main__\":\n",
    "    #EJERCICIO 4\n",
    "    try:\n",
    "        contraseñaG = generar_contrasena_aleatoria()\n",
    "        print(f\"Contraseña generada: {contraseñaG}\\n\") \n",
    "\n",
    "    except ValueError:\n",
    "        print(\"Ingresa los datos de mnaera correcta\")"
   ]
  },
  {
   "cell_type": "code",
   "execution_count": 7,
   "metadata": {},
   "outputs": [
    {
     "name": "stdout",
     "output_type": "stream",
     "text": [
      "La hipotenusa de 5.0 y 1.0 es 5.10\n"
     ]
    }
   ],
   "source": [
    "if __name__ == \"__main__\":\n",
    "    #EJERCICIO 5\n",
    "    try:\n",
    "        n1 = float(input(\"Ingresa numero 1: \"))\n",
    "        n2 = float(input(\"Ingresa numero 2: \"))\n",
    "        hipotenusa = calcular_hipotenusa(n1,n2)\n",
    "        print(\"La hipotenusa de {} y {} es {:.2f}\".format(n1,n2,hipotenusa))\n",
    "\n",
    "\n",
    "    except ValueError:\n",
    "        print(\"Ingresa los datos de mnaera correcta\")"
   ]
  }
 ],
 "metadata": {
  "kernelspec": {
   "display_name": "Python 3",
   "language": "python",
   "name": "python3"
  },
  "language_info": {
   "codemirror_mode": {
    "name": "ipython",
    "version": 3
   },
   "file_extension": ".py",
   "mimetype": "text/x-python",
   "name": "python",
   "nbconvert_exporter": "python",
   "pygments_lexer": "ipython3",
   "version": "3.10.11"
  },
  "orig_nbformat": 4
 },
 "nbformat": 4,
 "nbformat_minor": 2
}
