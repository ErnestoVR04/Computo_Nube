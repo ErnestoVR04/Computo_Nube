{
  "cells": [
    {
      "cell_type": "markdown",
      "metadata": {
        "id": "view-in-github",
        "colab_type": "text"
      },
      "source": [
        "<a href=\"https://colab.research.google.com/github/ErnestoVR04/Computo_Nube/blob/main/1_3_Files_and_directories.ipynb\" target=\"_parent\"><img src=\"https://colab.research.google.com/assets/colab-badge.svg\" alt=\"Open In Colab\"/></a>"
      ]
    },
    {
      "cell_type": "markdown",
      "metadata": {
        "id": "25VljQ32k4bb"
      },
      "source": [
        "# Files and directories"
      ]
    },
    {
      "cell_type": "markdown",
      "metadata": {
        "id": "P5lEewz2k4bc"
      },
      "source": [
        "<font color=\"orange\"><h2>Working with files and directories</h2></font>  \n",
        "Python ofrece distintas herramientas para administrar directorios y archivos, en particular en los siguientes ejemplos excribiremos y leeremos en disco, utilizaremos el archivo filename.txt"
      ]
    },
    {
      "cell_type": "markdown",
      "metadata": {
        "id": "l9TFjB-sk4bc"
      },
      "source": [
        "<h3>Opening files</h3>  \n",
        "Abrir un archivo en Python es muy simple e intuitivo. En este caso utilizaremos la funcion open(). Veamos un ejemplo."
      ]
    },
    {
      "cell_type": "code",
      "execution_count": null,
      "metadata": {
        "id": "nJbFLoFPk4bc",
        "outputId": "6de95ecd-a43b-4e51-ccb1-59e7b96e5d8b"
      },
      "outputs": [
        {
          "name": "stdout",
          "output_type": "stream",
          "text": [
            "Este es un archivo de ejemplo\n"
          ]
        }
      ],
      "source": [
        "# files/open_try.py\n",
        "fh = open('filename.txt', 'rt') # r: read, t: text\n",
        "for line in fh.readlines():\n",
        "    print(line.strip()) # remove whitespace and print\n",
        "fh.close()"
      ]
    },
    {
      "cell_type": "markdown",
      "metadata": {
        "id": "5zhokiDhk4bd"
      },
      "source": [
        "Cerrar un archivo es muy importante, debido que si no lo hacemos podemos poner en rieso la integridad del contenido. Cuando esto sucede, podemos tener perdida de memoria or algun otro problema. Por eso mismo necesitamos aplicar algunas precauciones, y utilizar la logica en un bloque try/finally. Esto queire decir que cualquier error que pueda ocurrir al momendo de abrir y leer el archivo."
      ]
    },
    {
      "cell_type": "code",
      "execution_count": null,
      "metadata": {
        "id": "mF3v-8fek4bd",
        "outputId": "2a81cc03-103f-4cbf-f1a1-125caa923b5b"
      },
      "outputs": [
        {
          "name": "stdout",
          "output_type": "stream",
          "text": [
            "Este es un archivo de ejemplo\n"
          ]
        }
      ],
      "source": [
        "# files/open_try.py\n",
        "fh = open('filename.txt', 'rt')\n",
        "try:\n",
        "    for line in fh.readlines():\n",
        "        print(line.strip())\n",
        "\n",
        "finally:\n",
        "    fh.close()\n",
        "\n",
        "#The logic is exactly the same, but now it is also safe"
      ]
    },
    {
      "cell_type": "markdown",
      "metadata": {
        "id": "6DerpUS3k4bd"
      },
      "source": [
        "<h3>Using a context manager to open a file</h3>  \n",
        "Python nos promociona una manera mas eficiente y segura de abrir archivos: utilizando un context manager. Veamos el codigo:"
      ]
    },
    {
      "cell_type": "code",
      "execution_count": null,
      "metadata": {
        "id": "aOeJrLSpk4bd",
        "outputId": "59ce8371-cba7-472e-a5d3-39adcfeaef0b"
      },
      "outputs": [
        {
          "name": "stdout",
          "output_type": "stream",
          "text": [
            "Este es un archivo de ejemplo\n"
          ]
        }
      ],
      "source": [
        "# files/open_with.py\n",
        "with open('filename.txt') as fh:\n",
        "    for line in fh:\n",
        "        print(line.strip())"
      ]
    },
    {
      "cell_type": "markdown",
      "metadata": {
        "id": "PC9irz9Xk4bd"
      },
      "source": [
        "This example is equivalent to the previous one, but reads so much better.\n",
        "The open() function is capable of producing a file object when invoked by a context\n",
        "manager, but the true beauty of it lies in the fact that fh.close() will be called\n",
        "automatically for us, even in the case of errors."
      ]
    },
    {
      "cell_type": "markdown",
      "metadata": {
        "id": "5UEZwA5sk4bd"
      },
      "source": [
        "<font color=\"orange\"><h2>Reading and writing to file</h2></font>  "
      ]
    },
    {
      "cell_type": "code",
      "execution_count": null,
      "metadata": {
        "id": "9YtEKXhek4bd"
      },
      "outputs": [],
      "source": [
        "# files/print_file.py\n",
        "with open('print_example.txt', 'w') as fw: # w = write\n",
        "    print('Hey I am printing into a file!!! aaaaa', file=fw) #Crea el archivo, print_example.txt si es que no existe, en caso de que exista inserta el mensaje"
      ]
    },
    {
      "cell_type": "code",
      "execution_count": null,
      "metadata": {
        "id": "0e0NheUDk4bd"
      },
      "outputs": [],
      "source": [
        "# files/read_write.py\n",
        "with open('print_example.txt') as f: #Abre el archivo\n",
        "    lines = [line.rstrip() for line in f] #Lee linea por linea y almacena el texto en el array\n",
        "with open('print_example.txt_copy.txt', 'w') as fw: #Crea o abre el archivo copia\n",
        "    fw.write('\\n'.join(lines)) #Inserta el texto que esta en el array en el archivo copia"
      ]
    },
    {
      "cell_type": "markdown",
      "metadata": {
        "id": "C3N0rrUtk4be"
      },
      "source": [
        "<font color=\"orange\"><h2>Reading and writing in binary mode</h2></font>    \n",
        "Notice that by opening a file passing t in the options (or omitting it, as it is the\n",
        "default), we're opening the file in text mode. This means that the content of the file is\n",
        "treated and interpreted as text.  \n",
        "\n",
        "If you wish to write bytes to a file, you can open it in binary mode. This is a common\n",
        "requirement when you deal with files that don't just contain raw text, such as <b>images,\n",
        "audio/video, and, in general</b>, any other proprietary format."
      ]
    },
    {
      "cell_type": "code",
      "execution_count": null,
      "metadata": {
        "id": "q37ZwANuk4be",
        "outputId": "aa0e0890-c0f0-4eca-b068-839c3486a1b9"
      },
      "outputs": [
        {
          "name": "stdout",
          "output_type": "stream",
          "text": [
            "b'This is binary data...'\n"
          ]
        }
      ],
      "source": [
        "# files/read_write_bin.py\n",
        "with open('example.bin', 'wb') as fw:\n",
        "    fw.write(b'This is binary data...')\n",
        "with open('example.bin', 'rb') as f:\n",
        "    print(f.read()) # prints: b'This is binary data...'"
      ]
    },
    {
      "cell_type": "markdown",
      "metadata": {
        "id": "oX0dkhpnk4be"
      },
      "source": [
        "<font color=\"orange\"><h2>Protecting against overwriting an existing file</h2></font>  \n",
        "Como hemos visto, Python nos proporciona la habilidad de abrir archivos para escribir. Utilizando  W, podemos abir un archivo y sobreescribir su contenido. Si deseas solo abrir un archivo para escribir y este no existe, podemos utilizar la X, como en el siguiente ejemplo:"
      ]
    },
    {
      "cell_type": "code",
      "execution_count": null,
      "metadata": {
        "id": "ctwazIwIk4be",
        "outputId": "d23100cb-0153-4173-fc91-a1c191f8c208"
      },
      "outputs": [
        {
          "ename": "FileExistsError",
          "evalue": "[Errno 17] File exists: 'write_x.txt'",
          "output_type": "error",
          "traceback": [
            "\u001b[1;31m---------------------------------------------------------------------------\u001b[0m",
            "\u001b[1;31mFileExistsError\u001b[0m                           Traceback (most recent call last)",
            "\u001b[1;32mc:\\IPN_Escolar\\Computo_Nube\\Python_introduction\\1.3_Files_and_directories.ipynb Cell 16\u001b[0m line \u001b[0;36m5\n\u001b[0;32m      <a href='vscode-notebook-cell:/c%3A/IPN_Escolar/Computo_Nube/Python_introduction/1.3_Files_and_directories.ipynb#X21sZmlsZQ%3D%3D?line=1'>2</a>\u001b[0m \u001b[39mwith\u001b[39;00m \u001b[39mopen\u001b[39m(\u001b[39m'\u001b[39m\u001b[39mwrite_x.txt\u001b[39m\u001b[39m'\u001b[39m, \u001b[39m'\u001b[39m\u001b[39mx\u001b[39m\u001b[39m'\u001b[39m) \u001b[39mas\u001b[39;00m fw: \u001b[39m# this succeeds\u001b[39;00m\n\u001b[0;32m      <a href='vscode-notebook-cell:/c%3A/IPN_Escolar/Computo_Nube/Python_introduction/1.3_Files_and_directories.ipynb#X21sZmlsZQ%3D%3D?line=2'>3</a>\u001b[0m     fw\u001b[39m.\u001b[39mwrite(\u001b[39m'\u001b[39m\u001b[39mWriting line 1\u001b[39m\u001b[39m'\u001b[39m)\n\u001b[1;32m----> <a href='vscode-notebook-cell:/c%3A/IPN_Escolar/Computo_Nube/Python_introduction/1.3_Files_and_directories.ipynb#X21sZmlsZQ%3D%3D?line=4'>5</a>\u001b[0m \u001b[39mwith\u001b[39;00m \u001b[39mopen\u001b[39;49m(\u001b[39m'\u001b[39;49m\u001b[39mwrite_x.txt\u001b[39;49m\u001b[39m'\u001b[39;49m, \u001b[39m'\u001b[39;49m\u001b[39mx\u001b[39;49m\u001b[39m'\u001b[39;49m) \u001b[39mas\u001b[39;00m fw: \u001b[39m# falla debido a que ya existe un archivo con ese nombre y se esta usando el metodo para no sobreescribir\u001b[39;00m\n\u001b[0;32m      <a href='vscode-notebook-cell:/c%3A/IPN_Escolar/Computo_Nube/Python_introduction/1.3_Files_and_directories.ipynb#X21sZmlsZQ%3D%3D?line=5'>6</a>\u001b[0m     fw\u001b[39m.\u001b[39mwrite(\u001b[39m'\u001b[39m\u001b[39mWriting line 2\u001b[39m\u001b[39m'\u001b[39m)\n",
            "File \u001b[1;32m~\\AppData\\Roaming\\Python\\Python310\\site-packages\\IPython\\core\\interactiveshell.py:286\u001b[0m, in \u001b[0;36m_modified_open\u001b[1;34m(file, *args, **kwargs)\u001b[0m\n\u001b[0;32m    279\u001b[0m \u001b[39mif\u001b[39;00m file \u001b[39min\u001b[39;00m {\u001b[39m0\u001b[39m, \u001b[39m1\u001b[39m, \u001b[39m2\u001b[39m}:\n\u001b[0;32m    280\u001b[0m     \u001b[39mraise\u001b[39;00m \u001b[39mValueError\u001b[39;00m(\n\u001b[0;32m    281\u001b[0m         \u001b[39mf\u001b[39m\u001b[39m\"\u001b[39m\u001b[39mIPython won\u001b[39m\u001b[39m'\u001b[39m\u001b[39mt let you open fd=\u001b[39m\u001b[39m{\u001b[39;00mfile\u001b[39m}\u001b[39;00m\u001b[39m by default \u001b[39m\u001b[39m\"\u001b[39m\n\u001b[0;32m    282\u001b[0m         \u001b[39m\"\u001b[39m\u001b[39mas it is likely to crash IPython. If you know what you are doing, \u001b[39m\u001b[39m\"\u001b[39m\n\u001b[0;32m    283\u001b[0m         \u001b[39m\"\u001b[39m\u001b[39myou can use builtins\u001b[39m\u001b[39m'\u001b[39m\u001b[39m open.\u001b[39m\u001b[39m\"\u001b[39m\n\u001b[0;32m    284\u001b[0m     )\n\u001b[1;32m--> 286\u001b[0m \u001b[39mreturn\u001b[39;00m io_open(file, \u001b[39m*\u001b[39margs, \u001b[39m*\u001b[39m\u001b[39m*\u001b[39mkwargs)\n",
            "\u001b[1;31mFileExistsError\u001b[0m: [Errno 17] File exists: 'write_x.txt'"
          ]
        }
      ],
      "source": [
        "# files/write_not_exists.py\n",
        "with open('write_x.txt', 'x') as fw: # this succeeds\n",
        "    fw.write('Writing line 1')\n",
        "\n",
        "with open('write_x.txt', 'x') as fw: # falla debido a que ya existe un archivo con ese nombre y se esta usando el metodo para no sobreescribir\n",
        "    fw.write('Writing line 2')"
      ]
    },
    {
      "cell_type": "markdown",
      "metadata": {
        "id": "q88kO0v0k4be"
      },
      "source": [
        "<font color=\"orange\"><h2>Checking for file and directory existence</h2></font>  \n",
        "Si deseas estar seguro que un directorio existe(o no existe), el modulo pathlib es el que necesitas. Veamoslo en el siguiente ejemplo"
      ]
    },
    {
      "cell_type": "code",
      "execution_count": null,
      "metadata": {
        "id": "KEXFlGBck4be",
        "outputId": "1bf34610-8d12-415a-c902-0e6213cb1d75"
      },
      "outputs": [
        {
          "name": "stdout",
          "output_type": "stream",
          "text": [
            "True\n",
            "c:\\IPN_Escolar\\Computo_Nube\\Python_introduction\n",
            "True\n",
            "False\n",
            "False\n"
          ]
        }
      ],
      "source": [
        "# files/existence.py\n",
        "from pathlib import Path\n",
        "\n",
        "p = Path('write_x.txt')\n",
        "path = p.parent.absolute()\n",
        "\n",
        "print(p.is_file()) # True\n",
        "print(path) # /Users/fab/srv/lpp3e/ch08/files\n",
        "print(path.is_dir()) # True\n",
        "\n",
        "q = Path('Computo_Nube\\Python_introduction\\write_x.txt')\n",
        "print(q.is_dir()) # True\n",
        "\n",
        "q = Path(\"C:\\IPN_Escolar\\Computo_Nube\\Python_introduction\\write_x.txt\")\n",
        "print(q.is_dir()) # True"
      ]
    },
    {
      "cell_type": "markdown",
      "metadata": {
        "id": "HldlEsWPk4be"
      },
      "source": [
        "<font color=\"orange\"><h2>Temporary files and directories</h2></font>  \n",
        "En algunas ocasiones, es factible el crear un directiorio temporal. Por ejemplo, cuando escribimos tests que afectan el disco, podemos utilizar archivos y directorios temporales para correr la logica y probar si es correcta."
      ]
    },
    {
      "cell_type": "code",
      "execution_count": null,
      "metadata": {
        "id": "NMveOjGik4be",
        "outputId": "7f0f3444-e7dd-4960-8571-6c8bbad42ee3"
      },
      "outputs": [
        {
          "name": "stdout",
          "output_type": "stream",
          "text": [
            "Temp directory: .\\tmpzkqfjfgv\n",
            "c:\\IPN_Escolar\\Computo_Nube\\Python_introduction\\tmpzkqfjfgv\\tmpll8pyuwj\n"
          ]
        }
      ],
      "source": [
        "# files/tmp.py\n",
        "from tempfile import NamedTemporaryFile, TemporaryDirectory\n",
        "with TemporaryDirectory(dir='.') as td:\n",
        "    print('Temp directory:', td)\n",
        "    with NamedTemporaryFile(dir=td) as t:\n",
        "        name = t.name\n",
        "        print(name)"
      ]
    },
    {
      "cell_type": "markdown",
      "metadata": {
        "id": "Bkl9eNnvk4be"
      },
      "source": [
        "The preceding example is quite straightforward: we create a temporary directory\n",
        "in the current one (\".\"), and we create a named temporary file in it. We print the\n",
        "filename, as well as its full path:"
      ]
    },
    {
      "cell_type": "markdown",
      "metadata": {
        "id": "_bTMt0Bkk4be"
      },
      "source": [
        "<font color=\"orange\"><h2>Directory content</h2></font>\n",
        "Con Python, puedes inspeccionar el contenido de un directorio. Veremos dos formas distintas de realizar esto"
      ]
    },
    {
      "cell_type": "code",
      "execution_count": null,
      "metadata": {
        "id": "qz8r6m5-k4be",
        "outputId": "a03543f9-ec2c-42fb-b4a3-b06b7f00f14e"
      },
      "outputs": [
        {
          "name": "stdout",
          "output_type": "stream",
          "text": [
            "File: 1.2_Introduccion_Python.ipynb\n",
            "File: 1.3_Files_and_directories.ipynb\n",
            "File: example.bin\n",
            "File: filename.txt\n",
            "File: print_example.txt\n",
            "File: print_example.txt_copy.txt\n",
            "File: write_x.txt\n"
          ]
        }
      ],
      "source": [
        "# files/listing.py\n",
        "from pathlib import Path\n",
        "p = Path('.')\n",
        "for entry in p.glob('*'):\n",
        "    print('File:' if entry.is_file() else 'Folder:', entry)"
      ]
    },
    {
      "cell_type": "markdown",
      "metadata": {
        "id": "MJtp_2Brk4be"
      },
      "source": [
        "Otra forma alternativa de poder escanear el direcotio es mediante os.walk. Veamos el siguiente ejemplo"
      ]
    },
    {
      "cell_type": "code",
      "execution_count": null,
      "metadata": {
        "id": "UKwdTc1ik4be"
      },
      "outputs": [],
      "source": [
        "# files/walking.py\n",
        "import os\n",
        "for root, dirs, files in os.walk('.'):\n",
        "    abs_root = os.path.abspath(root)\n",
        "    print(abs_root)\n",
        "    if dirs:\n",
        "        print('Directories:')\n",
        "        for dir_ in dirs:\n",
        "            print(dir_)\n",
        "        print()\n",
        "\n",
        "    if files:\n",
        "        print('Files:')\n",
        "        for filename in files:\n",
        "            print(filename)\n",
        "        print()"
      ]
    }
  ],
  "metadata": {
    "kernelspec": {
      "display_name": "Python 3",
      "language": "python",
      "name": "python3"
    },
    "language_info": {
      "codemirror_mode": {
        "name": "ipython",
        "version": 3
      },
      "file_extension": ".py",
      "mimetype": "text/x-python",
      "name": "python",
      "nbconvert_exporter": "python",
      "pygments_lexer": "ipython3",
      "version": "3.10.11"
    },
    "orig_nbformat": 4,
    "colab": {
      "provenance": [],
      "include_colab_link": true
    }
  },
  "nbformat": 4,
  "nbformat_minor": 0
}