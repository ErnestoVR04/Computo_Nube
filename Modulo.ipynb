{
 "cells": [
  {
   "cell_type": "code",
   "execution_count": null,
   "metadata": {},
   "outputs": [],
   "source": [
    "import random"
   ]
  },
  {
   "cell_type": "code",
   "execution_count": null,
   "metadata": {},
   "outputs": [],
   "source": [
    "def es_primo(numero):\n",
    "    if numero <= 1:\n",
    "        return False\n",
    "    elif numero <= 3:\n",
    "        return True\n",
    "    elif numero % 2 == 0 or numero % 3 == 0:\n",
    "        return False\n",
    "    i = 5\n",
    "    while i * i <= numero:\n",
    "        if numero % i == 0 or numero % (i + 2) == 0:\n",
    "            return False\n",
    "        i += 6\n",
    "    return True"
   ]
  },
  {
   "cell_type": "code",
   "execution_count": null,
   "metadata": {},
   "outputs": [],
   "source": [
    "def siguiente_primo(n):\n",
    "    if n < 2:\n",
    "        n = 2\n",
    "    else:\n",
    "        n += 1\n",
    "\n",
    "    while True:\n",
    "        if es_primo(n):\n",
    "            return n\n",
    "        n += 1"
   ]
  },
  {
   "cell_type": "code",
   "execution_count": null,
   "metadata": {},
   "outputs": [],
   "source": [
    "def mediana_de_tres(num1, num2, num3):\n",
    "    numeros_ordenados = sorted([num1, num2, num3])\n",
    "    return numeros_ordenados[1]"
   ]
  },
  {
   "cell_type": "code",
   "execution_count": null,
   "metadata": {},
   "outputs": [],
   "source": [
    "def generar_contrasena_aleatoria():\n",
    "    longitud = random.randint(7, 10)\n",
    "    contrasena = \"\"\n",
    "    \n",
    "    for _ in range(longitud):\n",
    "        caracter_aleatorio = chr(random.randint(33, 126))\n",
    "        contrasena += caracter_aleatorio\n",
    "    \n",
    "    return contrasena"
   ]
  },
  {
   "cell_type": "code",
   "execution_count": 4,
   "metadata": {},
   "outputs": [],
   "source": [
    "def calcular_hipotenusa(cateto1, cateto2):\n",
    "    hipotenusa = (cateto1**2 + cateto2**2)**0.5\n",
    "    return hipotenusa"
   ]
  }
 ],
 "metadata": {
  "kernelspec": {
   "display_name": "Python 3",
   "language": "python",
   "name": "python3"
  },
  "language_info": {
   "codemirror_mode": {
    "name": "ipython",
    "version": 3
   },
   "file_extension": ".py",
   "mimetype": "text/x-python",
   "name": "python",
   "nbconvert_exporter": "python",
   "pygments_lexer": "ipython3",
   "version": "3.10.11"
  },
  "orig_nbformat": 4
 },
 "nbformat": 4,
 "nbformat_minor": 2
}
